{
 "cells": [
  {
   "cell_type": "markdown",
   "metadata": {},
   "source": [
    "# CODE TO CLASSIFY TRAFFIC SIGNS"
   ]
  },
  {
   "cell_type": "markdown",
   "metadata": {},
   "source": [
    "Citation\n",
    "\n",
    "J. Stallkamp, M. Schlipsing, J. Salmen, and C. Igel. The German Traffic Sign Recognition Benchmark: A multi-class classification competition. In Proceedings of the IEEE International Joint Conference on Neural Networks, pages 1453–1460. 2011. \n",
    "\n",
    "@inproceedings{Stallkamp-IJCNN-2011,\n",
    "    author = {Johannes Stallkamp and Marc Schlipsing and Jan Salmen and Christian Igel},\n",
    "    booktitle = {IEEE International Joint Conference on Neural Networks},\n",
    "    title = {The {G}erman {T}raffic {S}ign {R}ecognition {B}enchmark: A multi-class classification competition},\n",
    "    year = {2011},\n",
    "    pages = {1453--1460}\n",
    "}\n",
    "\n"
   ]
  },
  {
   "cell_type": "markdown",
   "metadata": {},
   "source": [
    "- ( 0, b'Speed limit (20km/h)') ( 1, b'Speed limit (30km/h)')\n",
    "- ( 2, b'Speed limit (50km/h)') ( 3, b'Speed limit (60km/h)')\n",
    "- ( 4, b'Speed limit (70km/h)') ( 5, b'Speed limit (80km/h)')\n",
    "- ( 6, b'End of speed limit (80km/h)') ( 7, b'Speed limit (100km/h)')\n",
    "- ( 8, b'Speed limit (120km/h)') ( 9, b'No passing')\n",
    "- (10, b'No passing for vehicles over 3.5 metric tons')\n",
    "- (11, b'Right-of-way at the next intersection') (12, b'Priority road')\n",
    "- (13, b'Yield') (14, b'Stop') (15, b'No vehicles')\n",
    "- (16, b'Vehicles over 3.5 metric tons prohibited') (17, b'No entry')\n",
    "- (18, b'General caution') (19, b'Dangerous curve to the left')\n",
    "- (20, b'Dangerous curve to the right') (21, b'Double curve')\n",
    "- (22, b'Bumpy road') (23, b'Slippery road')\n",
    "- (24, b'Road narrows on the right') (25, b'Road work')\n",
    "- (26, b'Traffic signals') (27, b'Pedestrians') (28, b'Children crossing')\n",
    "- (29, b'Bicycles crossing') (30, b'Beware of ice/snow')\n",
    "- (31, b'Wild animals crossing')\n",
    "- (32, b'End of all speed and passing limits') (33, b'Turn right ahead')\n",
    "- (34, b'Turn left ahead') (35, b'Ahead only') (36, b'Go straight or right')\n",
    "- (37, b'Go straight or left') (38, b'Keep right') (39, b'Keep left')\n",
    "- (40, b'Roundabout mandatory') (41, b'End of no passing')\n",
    "- (42, b'End of no passing by vehicles over 3.5 metric tons')\n"
   ]
  },
  {
   "cell_type": "code",
   "execution_count": 1,
   "metadata": {},
   "outputs": [],
   "source": [
    "import warnings\n",
    "warnings.filterwarnings(\"ignore\")"
   ]
  },
  {
   "cell_type": "code",
   "execution_count": 2,
   "metadata": {},
   "outputs": [],
   "source": [
    "# import libraries \n",
    "import pickle\n",
    "\n",
    "import pandas as pd # Import Pandas for data manipulation using dataframes\n",
    "import numpy as np # Import Numpy for data statistical analysis \n",
    "import matplotlib.pyplot as plt # Import matplotlib for data visualisation\n",
    "import random"
   ]
  },
  {
   "cell_type": "code",
   "execution_count": 3,
   "metadata": {},
   "outputs": [],
   "source": [
    "with open(\"./traffic-signs-data/train.p\", mode='rb') as training_data:\n",
    "    train = pickle.load(training_data)\n",
    "with open(\"./traffic-signs-data/valid.p\", mode='rb') as validation_data:\n",
    "    valid = pickle.load(validation_data)\n",
    "with open(\"./traffic-signs-data/test.p\", mode='rb') as testing_data:\n",
    "    test = pickle.load(testing_data)"
   ]
  },
  {
   "cell_type": "code",
   "execution_count": 4,
   "metadata": {},
   "outputs": [],
   "source": [
    "X_train, y_train = train['features'], train['labels']\n",
    "X_validation, y_validation = valid['features'], valid['labels']\n",
    "X_test, y_test = test['features'], test['labels']\n"
   ]
  },
  {
   "cell_type": "code",
   "execution_count": 5,
   "metadata": {},
   "outputs": [
    {
     "data": {
      "text/plain": [
       "(34799, 32, 32, 3)"
      ]
     },
     "execution_count": 5,
     "metadata": {},
     "output_type": "execute_result"
    }
   ],
   "source": [
    "X_train.shape"
   ]
  },
  {
   "cell_type": "code",
   "execution_count": 6,
   "metadata": {},
   "outputs": [
    {
     "data": {
      "text/plain": [
       "(34799,)"
      ]
     },
     "execution_count": 6,
     "metadata": {},
     "output_type": "execute_result"
    }
   ],
   "source": [
    "y_train.shape"
   ]
  },
  {
   "cell_type": "markdown",
   "metadata": {},
   "source": [
    "# IMAGE EXPLORATION"
   ]
  },
  {
   "cell_type": "code",
   "execution_count": 7,
   "metadata": {},
   "outputs": [
    {
     "data": {
      "text/plain": [
       "36"
      ]
     },
     "execution_count": 7,
     "metadata": {},
     "output_type": "execute_result"
    },
    {
     "data": {
      "image/png": "[encoded data removed]",
      "text/plain": [
       "<Figure size 432x288 with 1 Axes>"
      ]
     },
     "metadata": {
      "needs_background": "light"
     },
     "output_type": "display_data"
    }
   ],
   "source": [
    "i = 1001\n",
    "plt.imshow(X_train[i]) # Show images are not shuffled\n",
    "y_train[i]"
   ]
  },
  {
   "cell_type": "markdown",
   "metadata": {},
   "source": [
    "# DATA PEPARATION"
   ]
  },
  {
   "cell_type": "code",
   "execution_count": 8,
   "metadata": {},
   "outputs": [],
   "source": [
    "## Shuffle the dataset \n",
    "from sklearn.utils import shuffle\n",
    "X_train, y_train = shuffle(X_train, y_train)\n"
   ]
  },
  {
   "cell_type": "code",
   "execution_count": 9,
   "metadata": {},
   "outputs": [],
   "source": [
    "X_train_gray = np.sum(X_train/3, axis=3, keepdims=True)\n",
    "X_test_gray  = np.sum(X_test/3, axis=3, keepdims=True)\n",
    "X_validation_gray  = np.sum(X_validation/3, axis=3, keepdims=True) "
   ]
  },
  {
   "cell_type": "code",
   "execution_count": 10,
   "metadata": {},
   "outputs": [],
   "source": [
    "X_train_gray_norm = (X_train_gray - 128)/128 \n",
    "X_test_gray_norm = (X_test_gray - 128)/128\n",
    "X_validation_gray_norm = (X_validation_gray - 128)/128\n"
   ]
  },
  {
   "cell_type": "code",
   "execution_count": 11,
   "metadata": {},
   "outputs": [
    {
     "data": {
      "text/plain": [
       "(34799, 32, 32, 1)"
      ]
     },
     "execution_count": 11,
     "metadata": {},
     "output_type": "execute_result"
    }
   ],
   "source": [
    "X_train_gray.shape"
   ]
  },
  {
   "cell_type": "code",
   "execution_count": 12,
   "metadata": {},
   "outputs": [
    {
     "data": {
      "text/plain": [
       "<matplotlib.image.AxesImage at 0x2789795fc10>"
      ]
     },
     "execution_count": 12,
     "metadata": {},
     "output_type": "execute_result"
    },
    {
     "data": {
      "image/png": "[encoded data removed]",
      "text/plain": [
       "<Figure size 432x288 with 1 Axes>"
      ]
     },
     "metadata": {
      "needs_background": "light"
     },
     "output_type": "display_data"
    },
    {
     "data": {
      "image/png": "[encoded data removed]",
      "text/plain": [
       "<Figure size 432x288 with 1 Axes>"
      ]
     },
     "metadata": {
      "needs_background": "light"
     },
     "output_type": "display_data"
    }
   ],
   "source": [
    "i = 610\n",
    "plt.imshow(X_train_gray[i].squeeze(), cmap='gray')\n",
    "plt.figure()\n",
    "plt.imshow(X_train[i])\n"
   ]
  },
  {
   "cell_type": "markdown",
   "metadata": {},
   "source": [
    "# MODEL TRAINING"
   ]
  },
  {
   "cell_type": "code",
   "execution_count": 13,
   "metadata": {},
   "outputs": [],
   "source": [
    "# Import train_test_split from scikit library\n",
    "# Import Keras\n",
    "# import keras\n",
    "from tensorflow.keras.models import Sequential\n",
    "from tensorflow.keras.layers import Conv2D, MaxPooling2D, Dense, Flatten, Dropout\n",
    "from tensorflow.keras.optimizers import Adam\n",
    "from tensorflow.keras.callbacks import TensorBoard\n",
    "\n",
    "# from subprocess import check_output\n",
    "from sklearn.model_selection import train_test_split\n"
   ]
  },
  {
   "cell_type": "code",
   "execution_count": 14,
   "metadata": {},
   "outputs": [],
   "source": [
    "image_shape = X_train_gray[i].shape"
   ]
  },
  {
   "cell_type": "code",
   "execution_count": 15,
   "metadata": {},
   "outputs": [],
   "source": [
    "cnn_model = Sequential()\n",
    "cnn_model.add(Conv2D(32,3, 3, input_shape = image_shape, activation='relu'))\n",
    "cnn_model.add(MaxPooling2D(pool_size = (2, 2)))\n",
    "cnn_model.add(Flatten())\n",
    "cnn_model.add(Dense(32, activation = 'relu'))\n",
    "cnn_model.add(Dense(43, activation = 'sigmoid'))\n"
   ]
  },
  {
   "cell_type": "code",
   "execution_count": 16,
   "metadata": {},
   "outputs": [],
   "source": [
    "cnn_model.compile(loss ='sparse_categorical_crossentropy', optimizer=Adam(lr=0.001),metrics =['accuracy'])"
   ]
  },
  {
   "cell_type": "code",
   "execution_count": 17,
   "metadata": {},
   "outputs": [
    {
     "name": "stdout",
     "output_type": "stream",
     "text": [
      "Epoch 1/50\n",
      "70/70 [==============================] - 13s 6ms/step - loss: 3.4506 - accuracy: 0.1033 - val_loss: 3.3869 - val_accuracy: 0.1497\n",
      "Epoch 2/50\n",
      "70/70 [==============================] - 0s 4ms/step - loss: 2.9516 - accuracy: 0.2460 - val_loss: 2.9489 - val_accuracy: 0.2546\n",
      "Epoch 3/50\n",
      "70/70 [==============================] - 0s 4ms/step - loss: 2.4107 - accuracy: 0.3770 - val_loss: 2.4989 - val_accuracy: 0.3397\n",
      "Epoch 4/50\n",
      "70/70 [==============================] - 0s 4ms/step - loss: 2.0062 - accuracy: 0.4746 - val_loss: 2.1813 - val_accuracy: 0.4209\n",
      "Epoch 5/50\n",
      "70/70 [==============================] - 0s 4ms/step - loss: 1.7230 - accuracy: 0.5430 - val_loss: 1.9767 - val_accuracy: 0.4601\n",
      "Epoch 6/50\n",
      "70/70 [==============================] - 0s 4ms/step - loss: 1.5187 - accuracy: 0.5914 - val_loss: 1.8195 - val_accuracy: 0.4975\n",
      "Epoch 7/50\n",
      "70/70 [==============================] - 0s 4ms/step - loss: 1.3695 - accuracy: 0.6252 - val_loss: 1.7004 - val_accuracy: 0.5308\n",
      "Epoch 8/50\n",
      "70/70 [==============================] - 0s 4ms/step - loss: 1.2497 - accuracy: 0.6569 - val_loss: 1.5822 - val_accuracy: 0.5669\n",
      "Epoch 9/50\n",
      "70/70 [==============================] - 0s 4ms/step - loss: 1.1605 - accuracy: 0.6772 - val_loss: 1.5142 - val_accuracy: 0.5873\n",
      "Epoch 10/50\n",
      "70/70 [==============================] - 0s 4ms/step - loss: 1.0820 - accuracy: 0.7015 - val_loss: 1.4645 - val_accuracy: 0.5948\n",
      "Epoch 11/50\n",
      "70/70 [==============================] - 0s 4ms/step - loss: 1.0216 - accuracy: 0.7153 - val_loss: 1.3755 - val_accuracy: 0.6209\n",
      "Epoch 12/50\n",
      "70/70 [==============================] - 0s 4ms/step - loss: 0.9684 - accuracy: 0.7321 - val_loss: 1.3813 - val_accuracy: 0.6111\n",
      "Epoch 13/50\n",
      "70/70 [==============================] - 0s 4ms/step - loss: 0.9264 - accuracy: 0.7420 - val_loss: 1.3495 - val_accuracy: 0.6376\n",
      "Epoch 14/50\n",
      "70/70 [==============================] - 0s 4ms/step - loss: 0.8905 - accuracy: 0.7475 - val_loss: 1.2665 - val_accuracy: 0.6574\n",
      "Epoch 15/50\n",
      "70/70 [==============================] - 0s 4ms/step - loss: 0.8536 - accuracy: 0.7628 - val_loss: 1.2541 - val_accuracy: 0.6599\n",
      "Epoch 16/50\n",
      "70/70 [==============================] - 0s 4ms/step - loss: 0.8192 - accuracy: 0.7726 - val_loss: 1.2600 - val_accuracy: 0.6698\n",
      "Epoch 17/50\n",
      "70/70 [==============================] - 0s 4ms/step - loss: 0.7900 - accuracy: 0.7807 - val_loss: 1.2057 - val_accuracy: 0.6762\n",
      "Epoch 18/50\n",
      "70/70 [==============================] - 0s 4ms/step - loss: 0.7645 - accuracy: 0.7896 - val_loss: 1.2155 - val_accuracy: 0.6726\n",
      "Epoch 19/50\n",
      "70/70 [==============================] - 0s 4ms/step - loss: 0.7421 - accuracy: 0.7955 - val_loss: 1.1963 - val_accuracy: 0.6800\n",
      "Epoch 20/50\n",
      "70/70 [==============================] - 0s 4ms/step - loss: 0.7202 - accuracy: 0.8017 - val_loss: 1.1627 - val_accuracy: 0.6812\n",
      "Epoch 21/50\n",
      "70/70 [==============================] - 0s 4ms/step - loss: 0.6983 - accuracy: 0.8083 - val_loss: 1.1730 - val_accuracy: 0.6807\n",
      "Epoch 22/50\n",
      "70/70 [==============================] - 0s 4ms/step - loss: 0.6792 - accuracy: 0.8146 - val_loss: 1.1989 - val_accuracy: 0.6748\n",
      "Epoch 23/50\n",
      "70/70 [==============================] - 0s 4ms/step - loss: 0.6683 - accuracy: 0.8137 - val_loss: 1.1629 - val_accuracy: 0.7059\n",
      "Epoch 24/50\n",
      "70/70 [==============================] - 0s 4ms/step - loss: 0.6476 - accuracy: 0.8219 - val_loss: 1.1304 - val_accuracy: 0.7036\n",
      "Epoch 25/50\n",
      "70/70 [==============================] - 0s 4ms/step - loss: 0.6371 - accuracy: 0.8246 - val_loss: 1.1334 - val_accuracy: 0.7213\n",
      "Epoch 26/50\n",
      "70/70 [==============================] - 0s 4ms/step - loss: 0.6209 - accuracy: 0.8318 - val_loss: 1.1241 - val_accuracy: 0.7166\n",
      "Epoch 27/50\n",
      "70/70 [==============================] - 0s 4ms/step - loss: 0.6081 - accuracy: 0.8320 - val_loss: 1.1050 - val_accuracy: 0.7268\n",
      "Epoch 28/50\n",
      "70/70 [==============================] - 0s 4ms/step - loss: 0.5887 - accuracy: 0.8423 - val_loss: 1.1230 - val_accuracy: 0.7156\n",
      "Epoch 29/50\n",
      "70/70 [==============================] - 0s 4ms/step - loss: 0.5794 - accuracy: 0.8421 - val_loss: 1.0898 - val_accuracy: 0.7311\n",
      "Epoch 30/50\n",
      "70/70 [==============================] - 0s 4ms/step - loss: 0.5682 - accuracy: 0.8467 - val_loss: 1.1125 - val_accuracy: 0.7274\n",
      "Epoch 31/50\n",
      "70/70 [==============================] - 0s 4ms/step - loss: 0.5550 - accuracy: 0.8489 - val_loss: 1.1075 - val_accuracy: 0.7190\n",
      "Epoch 32/50\n",
      "70/70 [==============================] - 0s 4ms/step - loss: 0.5445 - accuracy: 0.8529 - val_loss: 1.0780 - val_accuracy: 0.7365\n",
      "Epoch 33/50\n",
      "70/70 [==============================] - 0s 4ms/step - loss: 0.5368 - accuracy: 0.8545 - val_loss: 1.0624 - val_accuracy: 0.7417\n",
      "Epoch 34/50\n",
      "70/70 [==============================] - 0s 4ms/step - loss: 0.5294 - accuracy: 0.8557 - val_loss: 1.0927 - val_accuracy: 0.7347\n",
      "Epoch 35/50\n",
      "70/70 [==============================] - 0s 4ms/step - loss: 0.5220 - accuracy: 0.8580 - val_loss: 1.1022 - val_accuracy: 0.7283\n",
      "Epoch 36/50\n",
      "70/70 [==============================] - 0s 4ms/step - loss: 0.5150 - accuracy: 0.8586 - val_loss: 1.0884 - val_accuracy: 0.7401\n",
      "Epoch 37/50\n",
      "70/70 [==============================] - 0s 4ms/step - loss: 0.4991 - accuracy: 0.8665 - val_loss: 1.0815 - val_accuracy: 0.7320\n",
      "Epoch 38/50\n",
      "70/70 [==============================] - 0s 4ms/step - loss: 0.4971 - accuracy: 0.8645 - val_loss: 1.0624 - val_accuracy: 0.7395\n",
      "Epoch 39/50\n",
      "70/70 [==============================] - 0s 4ms/step - loss: 0.4826 - accuracy: 0.8705 - val_loss: 1.0801 - val_accuracy: 0.7438\n",
      "Epoch 40/50\n",
      "70/70 [==============================] - 0s 4ms/step - loss: 0.4737 - accuracy: 0.8746 - val_loss: 1.0677 - val_accuracy: 0.7349\n",
      "Epoch 41/50\n",
      "70/70 [==============================] - 0s 4ms/step - loss: 0.4682 - accuracy: 0.8757 - val_loss: 1.0565 - val_accuracy: 0.7535\n",
      "Epoch 42/50\n",
      "70/70 [==============================] - 0s 4ms/step - loss: 0.4637 - accuracy: 0.8768 - val_loss: 1.0595 - val_accuracy: 0.7399\n",
      "Epoch 43/50\n",
      "70/70 [==============================] - 0s 4ms/step - loss: 0.4596 - accuracy: 0.8753 - val_loss: 1.0602 - val_accuracy: 0.7454\n",
      "Epoch 44/50\n",
      "70/70 [==============================] - 0s 4ms/step - loss: 0.4518 - accuracy: 0.8788 - val_loss: 1.0824 - val_accuracy: 0.7363\n",
      "Epoch 45/50\n",
      "70/70 [==============================] - 0s 4ms/step - loss: 0.4449 - accuracy: 0.8799 - val_loss: 1.0378 - val_accuracy: 0.7454\n",
      "Epoch 46/50\n",
      "70/70 [==============================] - 0s 4ms/step - loss: 0.4376 - accuracy: 0.8831 - val_loss: 1.0703 - val_accuracy: 0.7610\n",
      "Epoch 47/50\n",
      "70/70 [==============================] - 0s 4ms/step - loss: 0.4319 - accuracy: 0.8838 - val_loss: 1.0547 - val_accuracy: 0.7415\n",
      "Epoch 48/50\n",
      "70/70 [==============================] - 0s 4ms/step - loss: 0.4249 - accuracy: 0.8871 - val_loss: 1.0644 - val_accuracy: 0.7444\n",
      "Epoch 49/50\n",
      "70/70 [==============================] - 0s 4ms/step - loss: 0.4213 - accuracy: 0.8877 - val_loss: 1.0719 - val_accuracy: 0.7590\n",
      "Epoch 50/50\n",
      "70/70 [==============================] - 0s 4ms/step - loss: 0.4171 - accuracy: 0.8876 - val_loss: 1.0671 - val_accuracy: 0.7576\n"
     ]
    }
   ],
   "source": [
    "history = cnn_model.fit(X_train_gray_norm,\n",
    "                        y_train,\n",
    "                        batch_size=500,\n",
    "                        epochs=50,\n",
    "                        verbose=1,\n",
    "                        validation_data = (X_validation_gray_norm,y_validation))"
   ]
  },
  {
   "cell_type": "code",
   "execution_count": 18,
   "metadata": {},
   "outputs": [
    {
     "name": "stdout",
     "output_type": "stream",
     "text": [
      "Test Accuracy : 0.7378\n"
     ]
    }
   ],
   "source": [
    "score = cnn_model.evaluate(X_test_gray_norm, y_test,verbose=0)\n",
    "print('Test Accuracy : {:.4f}'.format(score[1]))"
   ]
  },
  {
   "cell_type": "code",
   "execution_count": 19,
   "metadata": {},
   "outputs": [
    {
     "data": {
      "image/png": "[encoded data removed]",
      "text/plain": [
       "<Figure size 432x288 with 1 Axes>"
      ]
     },
     "metadata": {
      "needs_background": "light"
     },
     "output_type": "display_data"
    },
    {
     "data": {
      "image/png": "[encoded data removed]",
      "text/plain": [
       "<Figure size 432x288 with 1 Axes>"
      ]
     },
     "metadata": {
      "needs_background": "light"
     },
     "output_type": "display_data"
    }
   ],
   "source": [
    "import matplotlib.pyplot as plt\n",
    "%matplotlib inline\n",
    "accuracy = history.history['accuracy']\n",
    "val_accuracy = history.history['val_accuracy']\n",
    "loss = history.history['loss']\n",
    "val_loss = history.history['val_loss']\n",
    "epochs = range(len(accuracy))\n",
    "plt.plot(epochs, accuracy, 'bo', label='Training Accuracy')\n",
    "plt.plot(epochs, val_accuracy, 'b', label='Validation Accuracy')\n",
    "plt.title('Training and Validation accuracy')\n",
    "plt.legend()\n",
    "plt.figure()\n",
    "plt.plot(epochs, loss, 'bo', label='Training Loss')\n",
    "plt.plot(epochs, val_loss, 'b', label='Validation Loss')\n",
    "plt.title('Training and validation loss')\n",
    "plt.legend()\n",
    "plt.show()"
   ]
  },
  {
   "cell_type": "code",
   "execution_count": 21,
   "metadata": {},
   "outputs": [],
   "source": [
    "#get the predictions for the test data\n",
    "\n",
    "# Deprecated way pre-Tensorflow 2.6:\n",
    "#predicted_classes = cnn_model.predict_classes(X_test_gray_norm)\n",
    "\n",
    "# New way:\n",
    "predict_x = cnn_model.predict(X_test_gray_norm)\n",
    "predicted_classes = np.argmax(predict_x, axis=1)\n",
    "\n",
    "#get the indices to be plotted\n",
    "y_true = y_test\n"
   ]
  },
  {
   "cell_type": "code",
   "execution_count": 22,
   "metadata": {},
   "outputs": [
    {
     "data": {
      "text/plain": [
       "array([[ 15,  14,  13, ...,   0,   0,   0],\n",
       "       [ 85, 446, 100, ...,   3,   0,   0],\n",
       "       [ 87,  54, 480, ...,   2,   0,   0],\n",
       "       ...,\n",
       "       [  4,   0,   1, ...,  45,   0,   0],\n",
       "       [  0,   0,   0, ...,   0,  34,   0],\n",
       "       [  0,   0,   0, ...,   0,   8,  32]], dtype=int64)"
      ]
     },
     "execution_count": 22,
     "metadata": {},
     "output_type": "execute_result"
    }
   ],
   "source": [
    "from sklearn.metrics import confusion_matrix\n",
    "cm = confusion_matrix(y_true, predicted_classes)\n",
    "cm"
   ]
  },
  {
   "cell_type": "code",
   "execution_count": 23,
   "metadata": {
    "scrolled": true
   },
   "outputs": [
    {
     "data": {
      "image/png": "[encoded data removed]",
      "text/plain": [
       "<Figure size 432x288 with 11 Axes>"
      ]
     },
     "metadata": {
      "needs_background": "light"
     },
     "output_type": "display_data"
    }
   ],
   "source": [
    "for i in range(0,12):\n",
    "    plt.subplot(4,3,i+1)\n",
    "    plt.imshow(X_test_gray_norm[i+10].squeeze(), cmap='gray', interpolation='none')\n",
    "    plt.title(\"Predicted {}, Class {}\".format(predicted_classes[i+10], y_true[i+10]))\n",
    "    plt.tight_layout()"
   ]
  },
  {
   "cell_type": "code",
   "execution_count": null,
   "metadata": {},
   "outputs": [],
   "source": []
  }
 ],
 "metadata": {
  "kernelspec": {
   "display_name": "Python 3",
   "language": "python",
   "name": "python3"
  },
  "language_info": {
   "codemirror_mode": {
    "name": "ipython",
    "version": 3
   },
   "file_extension": ".py",
   "mimetype": "text/x-python",
   "name": "python",
   "nbconvert_exporter": "python",
   "pygments_lexer": "ipython3",
   "version": "3.8.5"
  },
  "widgets": {
   "state": {},
   "version": "1.1.2"
  }
 },
 "nbformat": 4,
 "nbformat_minor": 2
}
